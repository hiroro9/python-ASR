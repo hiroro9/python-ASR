{
 "cells": [
  {
   "cell_type": "markdown",
   "metadata": {},
   "source": [
    "# program2"
   ]
  },
  {
   "cell_type": "code",
   "execution_count": 1,
   "metadata": {},
   "outputs": [],
   "source": [
    "from ASR import input\n",
    "import pandas as pd\n",
    "from multiprocessing import Pool\n",
    "import multiprocessing as mlt"
   ]
  },
  {
   "cell_type": "code",
   "execution_count": 2,
   "metadata": {},
   "outputs": [],
   "source": [
    "raw_data_file = \"./InputFiles/normal_strain.csv\"\n",
    "condition_file = \"./InputFiles/input.csv\"\n",
    "dummy_ch_file = \"./InputFiles/dummy_ch.csv\"\n",
    "sma_window = 5000"
   ]
  },
  {
   "cell_type": "code",
   "execution_count": 3,
   "metadata": {},
   "outputs": [],
   "source": [
    "# \"\"\"~~~~~~~~~~~~~~~ Input from data files ~~~~~~~~~~~~~~~~~~~~~~~~~~~~~~~~~~~~~~~~~~~~~~~~~~~~~~~~~~~~~~~~~~~~~~~~~~~~~~~~~~~~~~~~~~~~~~~~~~~~~~~~\"\"\"\n",
    "input_condition = pd.read_csv(condition_file, index_col=0)\n",
    "ic = input_condition\n",
    "\n",
    "input_dum_ch = pd.read_csv(dummy_ch_file,index_col=0)\n",
    "dum=input_dum_ch.values\n",
    "# \"\"\"~~~~~~~~~~~~~~~~~~~~~~~~~~~~~~~~~~~~~~~~~~~~~~~~~~~~~~~~~~~~~~~~~~~~~~~~~~~~~~~~~~~~~~~~~~~~~~~~~~~~~~~~~~~~~~~~~~~~~~~~~~~~~~~~~~~~~~~~~~~~~~~\"\"\""
   ]
  },
  {
   "cell_type": "code",
   "execution_count": 4,
   "metadata": {},
   "outputs": [
    {
     "name": "stdout",
     "output_type": "stream",
     "text": [
      "\n",
      "\n",
      "~~~~~~~~~~~~~~~~~~~~Input Conditions~~~~~~~~~~~~~~~~~~~~~~~~~~~\n",
      "\n",
      "                   FDB-08 FDB-09 FDB-10 FDB-11 FDB-12 FDB-13\n",
      "#                                                           \n",
      "xx                  CH010  CH030  CH050  CH070  CH090  CH110\n",
      "xx                  CH011  CH031  CH051  CH071  CH091    NaN\n",
      "yy                  CH012  CH032  CH052  CH072  CH092  CH112\n",
      "yy                  CH013  CH033  CH053  CH073  CH093    NaN\n",
      "zz                  CH014    NaN  CH054  CH074  CH094  CH114\n",
      "zz                  CH015  CH035  CH055  CH075  CH095    NaN\n",
      "xy                  CH016    NaN  CH056  CH076  CH096  CH116\n",
      "xy                  CH017    NaN  CH057  CH077  CH097    NaN\n",
      "yx                  CH018    NaN  CH058  CH078  CH098  CH118\n",
      "yx                  CH019    NaN  CH059  CH079  CH099    NaN\n",
      "yz                  CH020    NaN  CH060  CH080  CH100  CH120\n",
      "yz                  CH021  CH041  CH061  CH081  CH101    NaN\n",
      "zy                  CH022  CH042  CH062  CH082  CH102  CH122\n",
      "zy                  CH023  CH043  CH063  CH083  CH103    NaN\n",
      "zx                  CH024  CH044  CH064  CH084  CH104  CH124\n",
      "zx                  CH025  CH045  CH065  CH085  CH105    NaN\n",
      "xz                  CH026  CH046  CH066  CH086  CH106  CH126\n",
      "xz                  CH027  CH047  CH067  CH087  CH107    NaN\n",
      "Initial Time            5     98    125    225    249    755\n",
      "Final Time           4659   4659   4659   4659   4659   4659\n",
      "Using Dummy             0      1      0      0      0      0\n",
      "Which Dummy           NaN  CH109    NaN    NaN    NaN    NaN\n",
      "Inclined direction      0      0      0      0      0      0\n",
      "Angle(degree)           0      0      0      0      0      0\n",
      "Azimuth(degree)         0      0      0      0      0      0\n",
      "\n",
      "~~~~~~~~~~~~~~~~~~~~~~~~~~~~~~~~~~~~~~~~~~~~~~~~~~~~~~~~~~~~~~~\n",
      "\n",
      "\n",
      "~~~~~~~~~~~~~~~~~~~~~~~Dummy Channels~~~~~~~~~~~~~~~~~~~~~~~~~~~~~~~\n",
      "\n",
      "                   1      2      3      4      5      6      7      8\n",
      "Dummy channel  CH028  CH029  CH068  CH069  CH108  CH109  CH178  CH179\n",
      "\n",
      "~~~~~~~~~~~~~~~~~~~~~~~~~~~~~~~~~~~~~~~~~~~~~~~~~~~~~~~~~~~~~~~~~~~~\n",
      "\n",
      "\n"
     ]
    }
   ],
   "source": [
    "# \"\"\"~~~~~~~~~~~~~~~ Print input conditons ~~~~~~~~~~~~~~~~~~~~~~~~~~~~~~~~~~~~~~~~~~~~~~~~~~~~~~~~~~~~~~~~\"\"\"\n",
    "print(\"\"\"\n",
    "\"\"\")\n",
    "print(\"~~~~~~~~~~~~~~~~~~~~Input Conditions~~~~~~~~~~~~~~~~~~~~~~~~~~~\")\n",
    "print(\"\")\n",
    "print(ic)\n",
    "print(\"\")\n",
    "print(\"~~~~~~~~~~~~~~~~~~~~~~~~~~~~~~~~~~~~~~~~~~~~~~~~~~~~~~~~~~~~~~~\")\n",
    "\n",
    "print(\"\"\"\n",
    "\"\"\")\n",
    "print(\"~~~~~~~~~~~~~~~~~~~~~~~Dummy Channels~~~~~~~~~~~~~~~~~~~~~~~~~~~~~~~\")\n",
    "print(\"\")\n",
    "print(input_dum_ch)\n",
    "print(\"\")\n",
    "print(\"~~~~~~~~~~~~~~~~~~~~~~~~~~~~~~~~~~~~~~~~~~~~~~~~~~~~~~~~~~~~~~~~~~~~\")\n",
    "print(\"\"\"\n",
    "\"\"\")\n",
    "# \"\"\"~~~~~~~~~~~~~~~~~~~~~~~~~~~~~~~~~~~~~~~~~~~~~~~~~~~~~~~~~~~~~~~~~~~~~~~~~~~~~~~~~~~~~~~~~~~~~~~~~~~~~~~~\"\"\""
   ]
  },
  {
   "cell_type": "code",
   "execution_count": null,
   "metadata": {},
   "outputs": [
    {
     "name": "stdout",
     "output_type": "stream",
     "text": [
      "\n",
      "\n",
      "~~~~~~~~~~~~~~~~~~~~Input Conditions~~~~~~~~~~~~~~~~~~~~~~~~~~~\n",
      "\n",
      "                   FDB-08 FDB-09 FDB-10 FDB-11 FDB-12 FDB-13\n",
      "#                                                           \n",
      "xx                  CH010  CH030  CH050  CH070  CH090  CH110\n",
      "xx                  CH011  CH031  CH051  CH071  CH091    NaN\n",
      "yy                  CH012  CH032  CH052  CH072  CH092  CH112\n",
      "yy                  CH013  CH033  CH053  CH073  CH093    NaN\n",
      "zz                  CH014    NaN  CH054  CH074  CH094  CH114\n",
      "zz                  CH015  CH035  CH055  CH075  CH095    NaN\n",
      "xy                  CH016    NaN  CH056  CH076  CH096  CH116\n",
      "xy                  CH017    NaN  CH057  CH077  CH097    NaN\n",
      "yx                  CH018    NaN  CH058  CH078  CH098  CH118\n",
      "yx                  CH019    NaN  CH059  CH079  CH099    NaN\n",
      "yz                  CH020    NaN  CH060  CH080  CH100  CH120\n",
      "yz                  CH021  CH041  CH061  CH081  CH101    NaN\n",
      "zy                  CH022  CH042  CH062  CH082  CH102  CH122\n",
      "zy                  CH023  CH043  CH063  CH083  CH103    NaN\n",
      "zx                  CH024  CH044  CH064  CH084  CH104  CH124\n",
      "zx                  CH025  CH045  CH065  CH085  CH105    NaN\n",
      "xz                  CH026  CH046  CH066  CH086  CH106  CH126\n",
      "xz                  CH027  CH047  CH067  CH087  CH107    NaN\n",
      "Initial Time            5     98    125    225    249    755\n",
      "Final Time           4659   4659   4659   4659   4659   4659\n",
      "Using Dummy             0      1      0      0      0      0\n",
      "Which Dummy           NaN  CH109    NaN    NaN    NaN    NaN\n",
      "Inclined direction      0      0      0      0      0      0\n",
      "Angle(degree)           0      0      0      0      0      0\n",
      "Azimuth(degree)         0      0      0      0      0      0\n",
      "\n",
      "~~~~~~~~~~~~~~~~~~~~~~~~~~~~~~~~~~~~~~~~~~~~~~~~~~~~~~~~~~~~~~~\n",
      "\n",
      "\n",
      "~~~~~~~~~~~~~~~~~~~~~~~Dummy Channels~~~~~~~~~~~~~~~~~~~~~~~~~~~~~~~\n",
      "\n",
      "                   1      2      3      4      5      6      7      8\n",
      "Dummy channel  CH028  CH029  CH068  CH069  CH108  CH109  CH178  CH179\n",
      "\n",
      "~~~~~~~~~~~~~~~~~~~~~~~~~~~~~~~~~~~~~~~~~~~~~~~~~~~~~~~~~~~~~~~~~~~~\n",
      "\n",
      "\n"
     ]
    }
   ],
   "source": [
    "\"\"\"~~~~~~~~~~~~~~~ apply the function ~~~~~~~~~~~~~~~~~~~~~~~~~~~~~~~~~~~~~~~~~~~~~~~~~~~~~~~~~~~~~~~~~~~~~\"\"\"\n",
    "def d_form_2(i): \n",
    "    input.d_form(ic.columns[i], raw_data_file, condition_file, dummy_ch_file, sma_window)\n",
    "\n",
    "def multi():\n",
    "    p = Pool(mlt.cpu_count())\n",
    "    p.map(d_form_2, range(len(ic.columns)))\n",
    "    p.close()\n",
    "\n",
    "if __name__ == \"__main__\":\n",
    "    multi()\n",
    "\"\"\"~~~~~~~~~~~~~~~~~~~~~~~~~~~~~~~~~~~~~~~~~~~~~~~~~~~~~~~~~~~~~~~~~~~~~~~~~~~~~~~~~~~~~~~~~~~~~~~~~~~~~~~~\"\"\""
   ]
  }
 ],
 "metadata": {
  "kernelspec": {
   "display_name": "Python 3",
   "language": "python",
   "name": "python3"
  },
  "language_info": {
   "codemirror_mode": {
    "name": "ipython",
    "version": 3
   },
   "file_extension": ".py",
   "mimetype": "text/x-python",
   "name": "python",
   "nbconvert_exporter": "python",
   "pygments_lexer": "ipython3",
   "version": "3.7.7"
  }
 },
 "nbformat": 4,
 "nbformat_minor": 4
}
