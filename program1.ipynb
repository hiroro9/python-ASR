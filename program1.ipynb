{
 "cells": [
  {
   "cell_type": "markdown",
   "metadata": {},
   "source": [
    "# program1"
   ]
  },
  {
   "cell_type": "code",
   "execution_count": 5,
   "metadata": {},
   "outputs": [],
   "source": [
    "from ASR import input\n",
    "import pandas as pd\n",
    "from multiprocessing import Pool\n",
    "import multiprocessing as mlt"
   ]
  },
  {
   "cell_type": "code",
   "execution_count": 6,
   "metadata": {},
   "outputs": [],
   "source": [
    "raw_data_file = \"./InputFiles/normal_strain.csv\"\n",
    "condition_file = \"./InputFiles/input.csv\"\n",
    "dummy_ch_file = \"./InputFiles//dummy_ch.csv\"\n",
    "sma_window = 5000"
   ]
  },
  {
   "cell_type": "code",
   "execution_count": 7,
   "metadata": {},
   "outputs": [],
   "source": [
    "# \"\"\"~~~~~~~~~~~~~~~ Input from data files ~~~~~~~~~~~~~~~~~~~~~~~~~~~~~~~~~~~~~~~~~~~~~~~~~~~~~~~~~~~~~~~~~~~~~~~~~~~~~~~~~~~~~~~~~~~~~~~~~~~~~~~~\"\"\"\n",
    "input_condition = pd.read_csv(condition_file, index_col=0)\n",
    "ic = input_condition\n",
    "\n",
    "input_dum_ch = pd.read_csv(dummy_ch_file,index_col=0)\n",
    "dum=input_dum_ch.values\n",
    "# \"\"\"~~~~~~~~~~~~~~~~~~~~~~~~~~~~~~~~~~~~~~~~~~~~~~~~~~~~~~~~~~~~~~~~~~~~~~~~~~~~~~~~~~~~~~~~~~~~~~~~~~~~~~~~~~~~~~~~~~~~~~~~~~~~~~~~~~~~~~~~~~~~~~~\"\"\""
   ]
  },
  {
   "cell_type": "code",
   "execution_count": 8,
   "metadata": {},
   "outputs": [
    {
     "name": "stdout",
     "output_type": "stream",
     "text": [
      "\n",
      "\n",
      "~~~~~~~~~~~~~~~~~~~~Input Conditions~~~~~~~~~~~~~~~~~~~~~~~~~~~\n",
      "\n",
      "                   FDB-08\n",
      "#                        \n",
      "xx                  CH010\n",
      "xx                  CH011\n",
      "yy                  CH012\n",
      "yy                  CH013\n",
      "zz                  CH014\n",
      "zz                  CH015\n",
      "xy                  CH016\n",
      "xy                  CH017\n",
      "yx                  CH018\n",
      "yx                  CH019\n",
      "yz                  CH020\n",
      "yz                  CH021\n",
      "zy                  CH022\n",
      "zy                  CH023\n",
      "zx                  CH024\n",
      "zx                  CH025\n",
      "xz                  CH026\n",
      "xz                  CH027\n",
      "Initial Time            5\n",
      "Final Time           4659\n",
      "Using Dummy             0\n",
      "Which Dummy           NaN\n",
      "Inclined direction      0\n",
      "Angle(degree)           0\n",
      "Azimuth(degree)         0\n",
      "\n",
      "~~~~~~~~~~~~~~~~~~~~~~~~~~~~~~~~~~~~~~~~~~~~~~~~~~~~~~~~~~~~~~~\n",
      "\n",
      "\n",
      "~~~~~~~~~~~~~~~~~~~~~~~Dummy Channels~~~~~~~~~~~~~~~~~~~~~~~~~~~~~~~\n",
      "\n",
      "                   1      2      3      4      5      6      7      8\n",
      "Dummy channel  CH028  CH029  CH068  CH069  CH108  CH109  CH178  CH179\n",
      "\n",
      "~~~~~~~~~~~~~~~~~~~~~~~~~~~~~~~~~~~~~~~~~~~~~~~~~~~~~~~~~~~~~~~~~~~~\n",
      "\n",
      "\n"
     ]
    }
   ],
   "source": [
    "# \"\"\"~~~~~~~~~~~~~~~ Print input conditons ~~~~~~~~~~~~~~~~~~~~~~~~~~~~~~~~~~~~~~~~~~~~~~~~~~~~~~~~~~~~~~~~\"\"\"\n",
    "print(\"\"\"\n",
    "\"\"\")\n",
    "print(\"~~~~~~~~~~~~~~~~~~~~Input Conditions~~~~~~~~~~~~~~~~~~~~~~~~~~~\")\n",
    "print(\"\")\n",
    "print(ic)\n",
    "print(\"\")\n",
    "print(\"~~~~~~~~~~~~~~~~~~~~~~~~~~~~~~~~~~~~~~~~~~~~~~~~~~~~~~~~~~~~~~~\")\n",
    "\n",
    "print(\"\"\"\n",
    "\"\"\")\n",
    "print(\"~~~~~~~~~~~~~~~~~~~~~~~Dummy Channels~~~~~~~~~~~~~~~~~~~~~~~~~~~~~~~\")\n",
    "print(\"\")\n",
    "print(input_dum_ch)\n",
    "print(\"\")\n",
    "print(\"~~~~~~~~~~~~~~~~~~~~~~~~~~~~~~~~~~~~~~~~~~~~~~~~~~~~~~~~~~~~~~~~~~~~\")\n",
    "print(\"\"\"\n",
    "\"\"\")\n",
    "# \"\"\"~~~~~~~~~~~~~~~~~~~~~~~~~~~~~~~~~~~~~~~~~~~~~~~~~~~~~~~~~~~~~~~~~~~~~~~~~~~~~~~~~~~~~~~~~~~~~~~~~~~~~~~~\"\"\""
   ]
  },
  {
   "cell_type": "code",
   "execution_count": null,
   "metadata": {},
   "outputs": [],
   "source": [
    "# # \"\"\"~~~~~~~~~~~~~~~ apply the function ~~~~~~~~~~~~~~~~~~~~~~~~~~~~~~~~~~~~~~~~~~~~~~~~~~~~~~~~~~~~~~~~~~~~~\"\"\"\n",
    "# def d_form_2(i): \n",
    "#     input.d_form(ic.columns[i], raw_data_file, condition_file, dummy_ch_file, sma_window)\n",
    "\n",
    "# def multi():\n",
    "#     p = Pool(mlt.cpu_count())\n",
    "#     p.map(d_form_2, range(len(ic.columns)))\n",
    "#     p.close()\n",
    "\n",
    "# if __name__ == \"__main__\":\n",
    "#     multi()\n",
    "# # \"\"\"~~~~~~~~~~~~~~~~~~~~~~~~~~~~~~~~~~~~~~~~~~~~~~~~~~~~~~~~~~~~~~~~~~~~~~~~~~~~~~~~~~~~~~~~~~~~~~~~~~~~~~~~\"\"\""
   ]
  },
  {
   "cell_type": "code",
   "execution_count": null,
   "metadata": {},
   "outputs": [],
   "source": []
  }
 ],
 "metadata": {
  "kernelspec": {
   "display_name": "Python 3",
   "language": "python",
   "name": "python3"
  },
  "language_info": {
   "codemirror_mode": {
    "name": "ipython",
    "version": 3
   },
   "file_extension": ".py",
   "mimetype": "text/x-python",
   "name": "python",
   "nbconvert_exporter": "python",
   "pygments_lexer": "ipython3",
   "version": "3.7.7"
  }
 },
 "nbformat": 4,
 "nbformat_minor": 4
}
