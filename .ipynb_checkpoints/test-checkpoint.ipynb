{
 "cells": [
  {
   "cell_type": "code",
   "execution_count": 8,
   "metadata": {},
   "outputs": [],
   "source": [
    "from ASR import input\n",
    "from ASR import manipulation\n",
    "from ASR import plot"
   ]
  },
  {
   "cell_type": "code",
   "execution_count": 9,
   "metadata": {},
   "outputs": [],
   "source": [
    "# input file names\n",
    "raw_data_csv = \"./InputFiles/normal_strain.csv\"\n",
    "condition_csv= \"./InputFiles/input.csv\"\n",
    "dummy_ch_csv = \"./InputFiles/dummy_ch.csv\""
   ]
  },
  {
   "cell_type": "code",
   "execution_count": 10,
   "metadata": {},
   "outputs": [],
   "source": [
    "# load data from csv\n",
    "raw_data, condition_data, dummy_ch = input.csv(raw_data_csv=raw_data_csv, condition_csv=condition_csv, dummy_ch_csv=dummy_ch_csv)"
   ]
  },
  {
   "cell_type": "markdown",
   "metadata": {},
   "source": [
    "## each sample"
   ]
  },
  {
   "cell_type": "code",
   "execution_count": 11,
   "metadata": {},
   "outputs": [],
   "source": [
    "for i in condition_data.columns:\n",
    "    sample_ID = i\n",
    "    \n",
    "    ud = int(condition_data.loc[\"Using Dummy\", i])\n",
    "    \n",
    "    strain = input.strain(sample_ID=i, raw_data=raw_data, condition=condition_data)\n",
    "    dummy = input.dummy(sample_ID=i, raw_data=raw_data, condition=condition_data, dummy_ch=dummy_ch)\n",
    "    temperature = input.temperature(sample_ID=i, raw_data=raw_data, condition=condition_data)\n",
    "    date = input.date(sample_ID=i, raw_data=raw_data, condition=condition_data)\n",
    "    \n",
    "    # offset strain data\n",
    "    strain_offset = manipulation.offset(strain)\n",
    "    dummy_offset = manipulation.offset(dummy)\n",
    "    \n",
    "    if ud == 1:\n",
    "        dum_ch = condition_data.loc[\"Which Dummy\", i]\n",
    "        strain_offset_dum = manipulation.dummy_sub(strain_offset, dummy_offset[dum_ch])\n",
    "    elif ud == 0:\n",
    "        strain_offset_dum = strain_offset\n",
    "    else:\n",
    "        print(\"invalid value for Using Dummy during \" + i)\n",
    "        \n",
    "    \n",
    "    # concatinate time & strain\n",
    "    time_strain = pd.concat([date[\"Elapsed Time\"], strain_offset_dum, temperature], axis=1)\n",
    "    \n",
    "    # plot strain\n",
    "    plot.strain(time_strain, i)\n",
    "    plot.each_dirc(time_strain, i, condition_data)\n",
    "\n",
    "    # make csv file\n",
    "    data = pd.concat([date, strain_offset_dum, temperature], axis=1)\n",
    "    data.to_csv(\"./output/\" + i + \".csv\", mode=\"w\")"
   ]
  },
  {
   "cell_type": "code",
   "execution_count": null,
   "metadata": {},
   "outputs": [],
   "source": []
  }
 ],
 "metadata": {
  "kernelspec": {
   "display_name": "Python 3",
   "language": "python",
   "name": "python3"
  },
  "language_info": {
   "codemirror_mode": {
    "name": "ipython",
    "version": 3
   },
   "file_extension": ".py",
   "mimetype": "text/x-python",
   "name": "python",
   "nbconvert_exporter": "python",
   "pygments_lexer": "ipython3",
   "version": "3.7.7"
  }
 },
 "nbformat": 4,
 "nbformat_minor": 4
}
