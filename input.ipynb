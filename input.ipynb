{
 "cells": [
  {
   "cell_type": "markdown",
   "metadata": {},
   "source": [
    "# input.py 本体"
   ]
  },
  {
   "cell_type": "code",
   "execution_count": 55,
   "metadata": {},
   "outputs": [],
   "source": [
    "import pandas as pd\n",
    "import numpy as np"
   ]
  },
  {
   "cell_type": "markdown",
   "metadata": {},
   "source": [
    "## 0. csv"
   ]
  },
  {
   "cell_type": "code",
   "execution_count": 56,
   "metadata": {},
   "outputs": [],
   "source": [
    "def csv(setting_csv, dummy_ch_csv):\n",
    "    \"\"\"input all csv files\"\"\"\n",
    "    \n",
    "    setting = pd.read_csv(setting_csv, index_col=0)\n",
    "    dummy_ch = pd.read_csv(dummy_ch_csv, index_col=0, skiprows=[0])\n",
    "    \n",
    "    return setting , dummy_ch "
   ]
  },
  {
   "cell_type": "markdown",
   "metadata": {},
   "source": [
    "## 1. strain"
   ]
  },
  {
   "cell_type": "code",
   "execution_count": 57,
   "metadata": {},
   "outputs": [],
   "source": [
    "def strain(sample_ID, raw_data_csv, setting):\n",
    "    ini_time = int(setting.at[\"Initial Time\", sample_ID])\n",
    "    fin_time = int(setting.at[\"Final Time\", sample_ID])\n",
    "    ch = setting.loc[\"xx\":\"xz\", sample_ID].dropna(how=\"all\").values\n",
    "    \n",
    "    ls = list(range(ini_time, fin_time+1))\n",
    "    ls.insert(0,0)\n",
    "    strain = pd.read_csv(raw_data_csv,\\\n",
    "                          skiprows=lambda x: x not in ls,\\\n",
    "                          usecols=ch)\n",
    "    \n",
    "    return strain"
   ]
  },
  {
   "cell_type": "markdown",
   "metadata": {},
   "source": [
    "## 2. dummy"
   ]
  },
  {
   "cell_type": "code",
   "execution_count": 58,
   "metadata": {},
   "outputs": [],
   "source": [
    "def dummy(sample_ID, raw_data_csv, setting, dummy_ch):\n",
    "    ini_time = int(setting.at[\"Initial Time\", sample_ID])\n",
    "    fin_time = int(setting.at[\"Final Time\", sample_ID])\n",
    "    dv = list(dummy_ch)\n",
    "    \n",
    "    ls = list(range(ini_time, fin_time+1))\n",
    "    ls.insert(0,0)\n",
    "    dummy = pd.read_csv(raw_data_csv,\\\n",
    "                          skiprows=lambda x: x not in ls,\\\n",
    "                          usecols=dv)\n",
    "   \n",
    "    return dummy"
   ]
  },
  {
   "cell_type": "markdown",
   "metadata": {},
   "source": [
    "## 3. temperature"
   ]
  },
  {
   "cell_type": "code",
   "execution_count": 59,
   "metadata": {},
   "outputs": [],
   "source": [
    "def temperature(sample_ID, raw_data_csv, setting):\n",
    "    ini_time = int(setting.at[\"Initial Time\", sample_ID])\n",
    "    fin_time = int(setting.at[\"Final Time\", sample_ID])\n",
    "    \n",
    "    ls = list(range(ini_time, fin_time+1))\n",
    "    ls.insert(0,0)\n",
    "    temperature = pd.read_csv(raw_data_csv,\\\n",
    "                          skiprows=lambda x: x not in ls,\\\n",
    "                          usecols=[\"CH000\", \"CH001\"])\n",
    "    \n",
    "    return temperature"
   ]
  },
  {
   "cell_type": "markdown",
   "metadata": {},
   "source": [
    "## 4. date"
   ]
  },
  {
   "cell_type": "code",
   "execution_count": 60,
   "metadata": {},
   "outputs": [],
   "source": [
    "def date(sample_ID, raw_data_csv, setting):\n",
    "    ini_time = int(setting.at[\"Initial Time\", sample_ID])\n",
    "    fin_time = int(setting.at[\"Final Time\", sample_ID])\n",
    "    \n",
    "    ls = list(range(ini_time, fin_time+1))\n",
    "    ls.insert(0,0)\n",
    "    date = pd.read_csv(raw_data_csv,\\\n",
    "                          skiprows=lambda x: x not in ls,\\\n",
    "                          usecols=[\"Elapsed Time\",\"Time.\", \"Channel No.\", \"---.1\"])\n",
    "    \n",
    "    return date"
   ]
  },
  {
   "cell_type": "markdown",
   "metadata": {},
   "source": [
    "# テスト部分"
   ]
  },
  {
   "cell_type": "code",
   "execution_count": 61,
   "metadata": {},
   "outputs": [],
   "source": [
    "raw_data_csv = \"./InputFiles/normal_strain.csv\"\n",
    "setting_csv= \"./InputFiles/input.csv\"\n",
    "dummy_ch_csv = \"./InputFiles/dummy_ch.csv\"\n",
    "sID = \"FDB-08\""
   ]
  },
  {
   "cell_type": "code",
   "execution_count": 62,
   "metadata": {},
   "outputs": [],
   "source": [
    "b,c =  csv(setting_csv=setting_csv, dummy_ch_csv=dummy_ch_csv)"
   ]
  },
  {
   "cell_type": "code",
   "execution_count": 63,
   "metadata": {},
   "outputs": [],
   "source": [
    "s = strain(sID, raw_data_csv, b)"
   ]
  },
  {
   "cell_type": "code",
   "execution_count": 64,
   "metadata": {},
   "outputs": [],
   "source": [
    "ddu=dummy(sID, raw_data_csv, b, c)"
   ]
  },
  {
   "cell_type": "code",
   "execution_count": null,
   "metadata": {},
   "outputs": [],
   "source": []
  },
  {
   "cell_type": "code",
   "execution_count": null,
   "metadata": {},
   "outputs": [],
   "source": []
  },
  {
   "cell_type": "code",
   "execution_count": null,
   "metadata": {},
   "outputs": [],
   "source": []
  }
 ],
 "metadata": {
  "kernelspec": {
   "display_name": "Python 3",
   "language": "python",
   "name": "python3"
  },
  "language_info": {
   "codemirror_mode": {
    "name": "ipython",
    "version": 3
   },
   "file_extension": ".py",
   "mimetype": "text/x-python",
   "name": "python",
   "nbconvert_exporter": "python",
   "pygments_lexer": "ipython3",
   "version": "3.7.7"
  }
 },
 "nbformat": 4,
 "nbformat_minor": 4
}
