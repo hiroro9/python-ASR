{
 "cells": [
  {
   "cell_type": "code",
   "execution_count": 1,
   "metadata": {},
   "outputs": [],
   "source": [
    "from ASR import input\n",
    "from ASR import manipulation\n",
    "from ASR import plot\n",
    "import pandas as pd\n",
    "import gc"
   ]
  },
  {
   "cell_type": "code",
   "execution_count": 2,
   "metadata": {},
   "outputs": [],
   "source": [
    "# input file names\n",
    "raw_data_csv = \"./InputFiles/normal_strain.csv\"\n",
    "setting_csv= \"./InputFiles/input.csv\"\n",
    "dummy_ch_csv = \"./InputFiles/dummy_ch.csv\""
   ]
  },
  {
   "cell_type": "code",
   "execution_count": 3,
   "metadata": {},
   "outputs": [],
   "source": [
    "# load data from csv\n",
    "setting_data, dummy_ch = input.csv(setting_csv=setting_csv, dummy_ch_csv=dummy_ch_csv)"
   ]
  },
  {
   "cell_type": "markdown",
   "metadata": {},
   "source": [
    "## each sample"
   ]
  },
  {
   "cell_type": "code",
   "execution_count": 4,
   "metadata": {},
   "outputs": [],
   "source": [
    "for i in setting_data.columns:\n",
    "    sample_ID = i\n",
    "    \n",
    "    ud = int(setting_data.loc[\"Using Dummy\", i])\n",
    "    sma_window = int(setting_data.loc[\"SMA Window\", i])\n",
    "    \n",
    "    strain = input.strain(sample_ID=i, raw_data_csv=raw_data_csv, setting=setting_data)\n",
    "    dummy = input.dummy(sample_ID=i, raw_data_csv=raw_data_csv, setting=setting_data, dummy_ch=dummy_ch)\n",
    "    temperature = input.temperature(sample_ID=i, raw_data_csv=raw_data_csv, setting=setting_data)\n",
    "    date = input.date(sample_ID=i, raw_data_csv=raw_data_csv, setting=setting_data)\n",
    "    \n",
    "    # offset strain data\n",
    "    strain = manipulation.offset(strain)\n",
    "    dummy = manipulation.offset(dummy)\n",
    "    \n",
    "    if ud == 1:\n",
    "        dum_ch = setting_data.loc[\"Which Dummy\", i]\n",
    "        strain = manipulation.dummy_sub(strain, dummy, dum_ch)\n",
    "    elif ud == 0:\n",
    "        pass\n",
    "    else:\n",
    "        print(\"invalid value for Using Dummy during \" + i)\n",
    "    \n",
    "    strain = manipulation.sma(strain, sma_window)\n",
    "    \n",
    "    # make csv file\n",
    "    data = pd.concat([date, strain, temperature], axis=1)\n",
    "    data.to_csv(\"./output/\" + i + \".csv\", mode=\"w\")\n",
    "    del data\n",
    "    gc.collect()\n",
    "    \n",
    "    # plot strain\n",
    "    time_strain = pd.concat([date[\"Elapsed Time\"], strain], axis=1)\n",
    "    time_dummy = pd.concat([date[\"Elapsed Time\"], dummy], axis=1)\n",
    "    time_temperature = pd.concat([date[\"Elapsed Time\"], temperature], axis=1)\n",
    "\n",
    "    plot.strain(time_strain,time_temperature, i)\n",
    "    plot.each_dirc(time_strain, i, setting_data)\n",
    "    plot.dummy(time_dummy,time_temperature, i)"
   ]
  },
  {
   "cell_type": "code",
   "execution_count": null,
   "metadata": {},
   "outputs": [],
   "source": []
  }
 ],
 "metadata": {
  "kernelspec": {
   "display_name": "Python 3",
   "language": "python",
   "name": "python3"
  },
  "language_info": {
   "codemirror_mode": {
    "name": "ipython",
    "version": 3
   },
   "file_extension": ".py",
   "mimetype": "text/x-python",
   "name": "python",
   "nbconvert_exporter": "python",
   "pygments_lexer": "ipython3",
   "version": "3.7.7"
  }
 },
 "nbformat": 4,
 "nbformat_minor": 4
}
